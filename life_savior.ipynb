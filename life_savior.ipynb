{
  "nbformat": 4,
  "nbformat_minor": 0,
  "metadata": {
    "colab": {
      "name": "Copy of life_savior.ipynb",
      "version": "0.3.2",
      "provenance": [],
      "collapsed_sections": [],
      "include_colab_link": true
    },
    "kernelspec": {
      "name": "python3",
      "display_name": "Python 3"
    }
  },
  "cells": [
    {
      "cell_type": "markdown",
      "metadata": {
        "id": "view-in-github",
        "colab_type": "text"
      },
      "source": [
        "<a href=\"https://colab.research.google.com/github/sak1b0/proteiNN/blob/master/life_savior.ipynb\" target=\"_parent\"><img src=\"https://colab.research.google.com/assets/colab-badge.svg\" alt=\"Open In Colab\"/></a>"
      ]
    },
    {
      "metadata": {
        "id": "7UEoDsBTAyYv",
        "colab_type": "code",
        "outputId": "133852a4-55fe-4756-914f-1d15bcedbeb8",
        "colab": {
          "base_uri": "https://localhost:8080/",
          "height": 90
        }
      },
      "cell_type": "code",
      "source": [
        "from sklearn.preprocessing import OneHotEncoder\n",
        "enc = OneHotEncoder(handle_unknown='ignore')\n",
        "s1='shovon'\n",
        "max_len=10\n",
        "s1=s1+'z'*(max_len-len(s1))\n",
        "print(s1)\n",
        "\n",
        "import pandas as pd\n",
        "import numpy as np\n",
        "\n",
        "url_train='https://raw.githubusercontent.com/sak1b0/proteiNN/master/train_formatted.csv'\n",
        "url_test='https://raw.githubusercontent.com/sak1b0/proteiNN/master/test_formatted.csv'\n",
        "\n",
        "df_train=pd.read_csv(url_train,header=None)\n",
        "df_test=pd.read_csv(url_test,header=None)\n",
        "\n",
        "\n",
        "df_train=np.asarray(df_train)\n",
        "df_test=np.asarray(df_test)\n",
        "\n",
        "X_train = df_train[:,0]\n",
        "y_train = df_train[:,1]\n",
        "print(X_train[0])\n",
        "print(y_train[0])\n"
      ],
      "execution_count": 0,
      "outputs": [
        {
          "output_type": "stream",
          "text": [
            "shovonzzzz\n",
            "RTNQAGLELIGNAEGCRRDPYMCPAGVWTDGIGNTHGVTPGVRKTDQQIAADWEKNILIAERCINQHFRGKDMPDNAFSAMTSAAFNMGCNSLRTYYSKARGMRVETSIHKWAQKGEWVNMCNHLPDFVNSNGVPLRGLKIRREKERQLCLTGLVNEHHHHHH\n",
            "CCCHHHHHHHCCHHHHHHCHHHCCHHHCCCCCCCXXCCCCCCCCCHHHHHHHHHHHHHHHHHHHHHHCCHHHCCHHHHHHHHHHHHHHCHHHHHEEEECCCCEEEECHHHHHHHCCCHHHHHHCHHHCCEECCEECHHHHHHHHHHHHHHHCCCCCCXXXXXC\n"
          ],
          "name": "stdout"
        }
      ]
    },
    {
      "metadata": {
        "id": "PxYDjJ89Hrif",
        "colab_type": "text"
      },
      "cell_type": "markdown",
      "source": [
        ""
      ]
    },
    {
      "metadata": {
        "id": "wdz3a9Ww1wmR",
        "colab_type": "text"
      },
      "cell_type": "markdown",
      "source": [
        "try to find if it actually works or not :p"
      ]
    },
    {
      "metadata": {
        "id": "K8FzvXL-zO2J",
        "colab_type": "code",
        "outputId": "30e00baa-82fe-4533-f846-aa2ffb517d88",
        "colab": {
          "base_uri": "https://localhost:8080/",
          "height": 210
        }
      },
      "cell_type": "code",
      "source": [
        "from sklearn.preprocessing import MultiLabelBinarizer\n",
        "#print(X_train[0])\n",
        "#abcdefghijklmnopqrstuvwxyz\n",
        "x='aaaabcz'\n",
        "print(len(x))\n",
        "one_hot = MultiLabelBinarizer()\n",
        "x=one_hot.fit_transform(x)\n",
        "print(x)\n",
        "print(x.shape)\n",
        "print(len(x))\n",
        "print('before proceeding do as much experiments shovon, if we mess up here we doomed :p ')\n",
        "\n",
        "\n"
      ],
      "execution_count": 2,
      "outputs": [
        {
          "output_type": "stream",
          "text": [
            "7\n",
            "[[1 0 0 0]\n",
            " [1 0 0 0]\n",
            " [1 0 0 0]\n",
            " [1 0 0 0]\n",
            " [0 1 0 0]\n",
            " [0 0 1 0]\n",
            " [0 0 0 1]]\n",
            "(7, 4)\n",
            "7\n",
            "before proceeding do as much experiments shovon, if we mess up here we doomed :p \n"
          ],
          "name": "stdout"
        }
      ]
    },
    {
      "metadata": {
        "id": "ExDtym4HIQA8",
        "colab_type": "code",
        "colab": {}
      },
      "cell_type": "code",
      "source": [
        "dummy='RTNQAGLELIGNAEGCRRDPYMCPAGVWTDGIGNTHGVTPGVRKTDQQIAADWEKNILIAERCINQHFRGKDMPDNAFSAMTSAAFNMGCNSLRTYYSKARGMRVETSIHKWAQKGEWVNMCNHLPDFVNSNGVPLRGLKIRREKERQLCLTGLVNEHHHHHH'\n",
        "print('length of dummy: ',len(dummy))\n",
        "dummy=one_hot.fit_transform(dummy)\n",
        "print(dummy[0])\n",
        "print(dummy.shape)\n",
        "\n",
        "dummy=['aaaaaaaaaaaaaaaaaaaaaaaaaaaaaaaaab','cd']\n",
        "print('length of dummy: ',len(dummy))\n",
        "dummy=one_hot.fit_transform(dummy)\n",
        "print(dummy)\n",
        "print(dummy[0])\n",
        "print(dummy[1])\n",
        "print(dummy.shape)\n"
      ],
      "execution_count": 0,
      "outputs": []
    }
  ]
}
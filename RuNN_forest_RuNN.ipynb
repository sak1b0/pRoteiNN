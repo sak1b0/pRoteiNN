{
  "nbformat": 4,
  "nbformat_minor": 0,
  "metadata": {
    "colab": {
      "name": "RuNN_forest_RuNN.ipynb",
      "version": "0.3.2",
      "provenance": [],
      "include_colab_link": true
    },
    "kernelspec": {
      "name": "python3",
      "display_name": "Python 3"
    },
    "accelerator": "GPU"
  },
  "cells": [
    {
      "cell_type": "markdown",
      "metadata": {
        "id": "view-in-github",
        "colab_type": "text"
      },
      "source": [
        "<a href=\"https://colab.research.google.com/github/sak1b0/proteiNN/blob/master/RuNN_forest_RuNN.ipynb\" target=\"_parent\"><img src=\"https://colab.research.google.com/assets/colab-badge.svg\" alt=\"Open In Colab\"/></a>"
      ]
    },
    {
      "metadata": {
        "id": "4a1dlMc4b47Y",
        "colab_type": "code",
        "outputId": "5e81dd47-d3e1-4e98-9ee5-0deb4cf2c5b6",
        "colab": {
          "base_uri": "https://localhost:8080/",
          "height": 1295
        }
      },
      "cell_type": "code",
      "source": [
        "from keras.models import Sequential\n",
        "from keras.layers import Dense\n",
        "from keras.layers import LSTM\n",
        "import pandas as pd\n",
        "import numpy as np\n",
        "from sklearn.preprocessing import MultiLabelBinarizer\n",
        "import matplotlib.pyplot as plt\n",
        "\n",
        "url_train='https://raw.githubusercontent.com/sak1b0/proteiNN/master/train_formatted.csv'\n",
        "url_test='https://raw.githubusercontent.com/sak1b0/proteiNN/master/test_formatted.csv'\n",
        "\n",
        "df_train=pd.read_csv(url_train,header=None)\n",
        "df_test=pd.read_csv(url_test,header=None)\n",
        "\n",
        "\n",
        "one_hot = MultiLabelBinarizer() #finally the ultimate solution\n",
        "\n",
        "df_train=np.asarray(df_train)\n",
        "df_test=np.asarray(df_test)\n",
        "\n",
        "X_train = df_train[:, 0]\n",
        "y_train = df_train[:, 1]\n",
        "\n",
        "X_test = df_test[:, 0]\n",
        "y_test = df_test[:, 1]\n",
        "\n",
        "def debug_me():\n",
        "  print('train dataframe: ',df_train.shape)\n",
        "  print('X train shape: ',X_train.shape)\n",
        "  print('y train shape: ',y_train.shape)\n",
        "\n",
        "  print('test dataframe: ',df_test.shape)\n",
        "  print('X test shape: ',X_test.shape)\n",
        "  print('y test shape: ',y_test.shape)\n",
        "  \n",
        "\n",
        "debug_me()\n",
        "\n",
        "max_length_train=0\n",
        "for item in range (len(X_train)):\n",
        "  max_length_train=max(max_length_train,len(X_train[item])) #finding maximum length of string in training\n",
        "  \n",
        "  \n",
        "print('Maximum length of train: ',max_length_train)\n",
        "\n",
        "max_length_test=0\n",
        "for item in range (len(X_test)):\n",
        "  max_length_test=max(max_length_test,len(X_test[item])) #finding maximum length of string in testing set\n",
        "  \n",
        "print('Maximum length of test: ',max_length_test)\n",
        "\n",
        "#max_length_train=max(max_length_train,max_length_test)\n",
        "\n",
        "\n",
        "\n",
        "for item in range (len(X_train)):\n",
        "  X_train[item] = X_train[item]+'Z'*(max_length_train-len(X_train[item])) # padding with 'Z' to make all of them the same length\n",
        "  #X_train[item] = one_hot.fit_transform(X_train[item])\n",
        "  \n",
        "  \n",
        "for item in range (len(y_train)):\n",
        "  y_train[item] = y_train[item]+'Z'*(max_length_train-len(y_train[item])) # padding with 'Z' to make all of them the same length\n",
        "  #y_train[item] = one_hot.fit_transform(y_train[item])\n",
        "  \n",
        "  \n",
        "for item in range (len(X_test)):\n",
        "  X_test[item] = X_test[item]+'Z'*(max_length_train-len(X_test[item])) # padding with 'Z' to make all of them the same length\n",
        "  #X_test[item] =one_hot.fit_transform(X_test[item])\n",
        "  \n",
        "  \n",
        "for item in range (len(y_test)):\n",
        "  y_test[item] = y_test[item]+'Z'*(max_length_train-len(y_test[item])) # padding with 'Z' to make all of them the same length  \n",
        "  #y_test[item] = one_hot.fit_transform(y_test[item])\n",
        "  \n",
        "  \n",
        "#print(X_train[0])\n",
        "#print(y_train[0])\n",
        "\n",
        "\n",
        "print('\\nafter padding: \\n')\n",
        "\n",
        "debug_me()\n",
        "#print(X_train[0])\n",
        "#print(y_train[0])\n",
        "\n",
        "\n",
        "#encoding to integer of X_train\n",
        "s=list(X_train)\n",
        "\n",
        "for item in range(len(s)):\n",
        "  s[item]=list(s[item])\n",
        "  \n",
        "for i in range(len(s)):\n",
        "  for item in range(len(s[i])):\n",
        "    s[i][item]=ord(s[i][item])-64\n",
        "X_train=np.array(s).reshape(4590, 1,1303 )\n",
        "\n",
        "#encoding to integer of y_train\n",
        "\n",
        "s=list(y_train)\n",
        "\n",
        "for item in range(len(s)):\n",
        "  s[item]=list(s[item])\n",
        "  \n",
        "for i in range(len(s)):\n",
        "  for item in range(len(s[i])):\n",
        "    s[i][item]=ord(s[i][item])-64\n",
        "y_train=np.array(s).reshape(4590, 1, 1303)\n",
        "\n",
        "#encoding to integer of X_test\n",
        "\n",
        "s=list(X_test)\n",
        "\n",
        "for item in range(len(s)):\n",
        "  s[item]=list(s[item])\n",
        "  \n",
        "for i in range(len(s)):\n",
        "  for item in range(len(s[i])):\n",
        "    s[i][item]=ord(s[i][item])-64\n",
        "X_test=np.array(s).reshape(1199, 1, 1303)\n",
        "\n",
        "#encoding to integer of y_test\n",
        "\n",
        "s=list(y_test)\n",
        "\n",
        "for item in range(len(s)):\n",
        "  s[item]=list(s[item])\n",
        "  \n",
        "for i in range(len(s)):\n",
        "  for item in range(len(s[i])):\n",
        "    s[i][item]=ord(s[i][item])-64\n",
        "y_test=np.array(s).reshape(1199, 1, 1303)\n",
        "\n",
        "print('\\nafter encoding to integers\\n')\n",
        "debug_me()\n",
        "\n",
        "display(X_train[0])\n",
        "\n",
        "X_train=X_train/26\n",
        "y_train=y_train/26\n",
        "X_test=X_test/26\n",
        "y_test=y_test/26\n",
        "\n",
        "display(X_train[0])\n",
        "#=======================this is where the fun part begins====================\n",
        "\n",
        "outp=1303\n",
        "model=Sequential()\n",
        "\n",
        "model.add(LSTM((1303),input_shape=(1,1303),return_sequences=True,activation='sigmoid'))\n",
        "model.add(LSTM((1303),input_shape=(1,1303),return_sequences=True,activation='sigmoid'))\n",
        "model.add(LSTM((1303),input_shape=(1,1303),return_sequences=True,activation='sigmoid'))\n",
        "model.add(LSTM((1303),input_shape=(1,1303),return_sequences=True,activation='sigmoid'))\n",
        "model.add(LSTM((1303),input_shape=(1,1303),return_sequences=True,activation='sigmoid'))\n",
        "model.add(LSTM((1303),input_shape=(1,1303),return_sequences=True,activation='sigmoid'))\n",
        "\n",
        "\n",
        "\n",
        "model.compile(loss='binary_crossentropy',optimizer='rmsprop',metrics=['accuracy'])\n",
        "\n",
        "model.summary()\n",
        "\n",
        "print(model.input_shape)\n",
        "print(model.output_shape)\n",
        "\n",
        "history=model.fit(X_train,y_train,epochs=10,validation_data=(X_test,y_test))\n",
        "\n",
        "\n",
        "\n"
      ],
      "execution_count": 2,
      "outputs": [
        {
          "output_type": "stream",
          "text": [
            "train dataframe:  (4590, 2)\n",
            "X train shape:  (4590,)\n",
            "y train shape:  (4590,)\n",
            "test dataframe:  (1199, 2)\n",
            "X test shape:  (1199,)\n",
            "y test shape:  (1199,)\n",
            "Maximum length of train:  1303\n",
            "Maximum length of test:  1247\n",
            "\n",
            "after padding: \n",
            "\n",
            "train dataframe:  (4590, 2)\n",
            "X train shape:  (4590,)\n",
            "y train shape:  (4590,)\n",
            "test dataframe:  (1199, 2)\n",
            "X test shape:  (1199,)\n",
            "y test shape:  (1199,)\n",
            "\n",
            "after encoding to integers\n",
            "\n",
            "train dataframe:  (4590, 2)\n",
            "X train shape:  (4590, 1, 1303)\n",
            "y train shape:  (4590, 1, 1303)\n",
            "test dataframe:  (1199, 2)\n",
            "X test shape:  (1199, 1, 1303)\n",
            "y test shape:  (1199, 1, 1303)\n"
          ],
          "name": "stdout"
        },
        {
          "output_type": "display_data",
          "data": {
            "text/plain": [
              "array([[18, 20, 14, ..., 26, 26, 26]])"
            ]
          },
          "metadata": {
            "tags": []
          }
        },
        {
          "output_type": "display_data",
          "data": {
            "text/plain": [
              "array([[0.69230769, 0.76923077, 0.53846154, ..., 1.        , 1.        ,\n",
              "        1.        ]])"
            ]
          },
          "metadata": {
            "tags": []
          }
        },
        {
          "output_type": "stream",
          "text": [
            "_________________________________________________________________\n",
            "Layer (type)                 Output Shape              Param #   \n",
            "=================================================================\n",
            "lstm_7 (LSTM)                (None, 1, 1303)           13587684  \n",
            "_________________________________________________________________\n",
            "lstm_8 (LSTM)                (None, 1, 1303)           13587684  \n",
            "_________________________________________________________________\n",
            "lstm_9 (LSTM)                (None, 1, 1303)           13587684  \n",
            "_________________________________________________________________\n",
            "lstm_10 (LSTM)               (None, 1, 1303)           13587684  \n",
            "_________________________________________________________________\n",
            "lstm_11 (LSTM)               (None, 1, 1303)           13587684  \n",
            "_________________________________________________________________\n",
            "lstm_12 (LSTM)               (None, 1, 1303)           13587684  \n",
            "=================================================================\n",
            "Total params: 81,526,104\n",
            "Trainable params: 81,526,104\n",
            "Non-trainable params: 0\n",
            "_________________________________________________________________\n",
            "(None, 1, 1303)\n",
            "(None, 1, 1303)\n",
            "WARNING:tensorflow:From /usr/local/lib/python3.6/dist-packages/tensorflow/python/ops/math_ops.py:3066: to_int32 (from tensorflow.python.ops.math_ops) is deprecated and will be removed in a future version.\n",
            "Instructions for updating:\n",
            "Use tf.cast instead.\n",
            "Train on 4590 samples, validate on 1199 samples\n",
            "Epoch 1/10\n",
            "4590/4590 [==============================] - 29s 6ms/step - loss: 0.4139 - acc: 0.7984 - val_loss: 0.4062 - val_acc: 0.8098\n",
            "Epoch 2/10\n",
            "4590/4590 [==============================] - 13s 3ms/step - loss: 0.4060 - acc: 0.8079 - val_loss: 0.4055 - val_acc: 0.8101\n",
            "Epoch 3/10\n",
            "4590/4590 [==============================] - 14s 3ms/step - loss: 0.4059 - acc: 0.8079 - val_loss: 0.4055 - val_acc: 0.8104\n",
            "Epoch 4/10\n",
            "4590/4590 [==============================] - 14s 3ms/step - loss: 0.4059 - acc: 0.8079 - val_loss: 0.4057 - val_acc: 0.8104\n",
            "Epoch 5/10\n",
            "4590/4590 [==============================] - 14s 3ms/step - loss: 0.4058 - acc: 0.8081 - val_loss: 0.4056 - val_acc: 0.8104\n",
            "Epoch 6/10\n",
            "4590/4590 [==============================] - 14s 3ms/step - loss: 0.4058 - acc: 0.8080 - val_loss: 0.4058 - val_acc: 0.8107\n",
            "Epoch 7/10\n",
            "4590/4590 [==============================] - 14s 3ms/step - loss: 0.4057 - acc: 0.8079 - val_loss: 0.4060 - val_acc: 0.8098\n",
            "Epoch 8/10\n",
            "4590/4590 [==============================] - 14s 3ms/step - loss: 0.4057 - acc: 0.8079 - val_loss: 0.4054 - val_acc: 0.8106\n",
            "Epoch 9/10\n",
            "4590/4590 [==============================] - 14s 3ms/step - loss: 0.4056 - acc: 0.8080 - val_loss: 0.4059 - val_acc: 0.8101\n",
            "Epoch 10/10\n",
            "4590/4590 [==============================] - 14s 3ms/step - loss: 0.4055 - acc: 0.8079 - val_loss: 0.4069 - val_acc: 0.8079\n"
          ],
          "name": "stdout"
        }
      ]
    },
    {
      "metadata": {
        "id": "DwmelY6_5TTI",
        "colab_type": "code",
        "outputId": "dd24b3cb-58f6-45cd-8409-6160ea470720",
        "colab": {
          "base_uri": "https://localhost:8080/",
          "height": 773
        }
      },
      "cell_type": "code",
      "source": [
        "plt.plot(history.history['loss'])\n",
        "plt.show()\n",
        "plt.plot(history.history['acc'])\n",
        "plt.show()\n",
        "plt.plot(history.history['val_acc'])\n",
        "plt.show()"
      ],
      "execution_count": 3,
      "outputs": [
        {
          "output_type": "display_data",
          "data": {
            "image/png": "[encoded data removed]",
            "text/plain": [
              "<Figure size 432x288 with 1 Axes>"
            ]
          },
          "metadata": {
            "tags": []
          }
        },
        {
          "output_type": "display_data",
          "data": {
            "image/png": "[encoded data removed]",
            "text/plain": [
              "<Figure size 432x288 with 1 Axes>"
            ]
          },
          "metadata": {
            "tags": []
          }
        },
        {
          "output_type": "display_data",
          "data": {
            "image/png": "[encoded data removed]",
            "text/plain": [
              "<Figure size 432x288 with 1 Axes>"
            ]
          },
          "metadata": {
            "tags": []
          }
        }
      ]
    }
  ]
}
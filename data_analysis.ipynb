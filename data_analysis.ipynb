{
  "nbformat": 4,
  "nbformat_minor": 0,
  "metadata": {
    "colab": {
      "name": "data_analysis.ipynb",
      "version": "0.3.2",
      "provenance": [],
      "collapsed_sections": [],
      "include_colab_link": true
    },
    "kernelspec": {
      "name": "python3",
      "display_name": "Python 3"
    }
  },
  "cells": [
    {
      "cell_type": "markdown",
      "metadata": {
        "id": "view-in-github",
        "colab_type": "text"
      },
      "source": [
        "<a href=\"https://colab.research.google.com/github/sak1b0/proteiNN/blob/master/data_analysis.ipynb\" target=\"_parent\"><img src=\"https://colab.research.google.com/assets/colab-badge.svg\" alt=\"Open In Colab\"/></a>"
      ]
    },
    {
      "metadata": {
        "id": "a8TaTSuahcEN",
        "colab_type": "code",
        "colab": {
          "base_uri": "https://localhost:8080/",
          "height": 364
        },
        "outputId": "bdebf712-1481-4bc7-9a10-c27b1a1d2f8c"
      },
      "cell_type": "code",
      "source": [
        "#from keras.models import Sequential\n",
        "#from keras.layers import Dense\n",
        "#from keras.layers import LSTM\n",
        "import pandas as pd\n",
        "import numpy as np\n",
        "from sklearn.preprocessing import MultiLabelBinarizer\n",
        "import matplotlib.pyplot as plt\n",
        "\n",
        "url_train='https://raw.githubusercontent.com/sak1b0/proteiNN/master/train_formatted.csv'\n",
        "url_test='https://raw.githubusercontent.com/sak1b0/proteiNN/master/test_formatted.csv'\n",
        "\n",
        "df_train=pd.read_csv(url_train,header=None)\n",
        "df_test=pd.read_csv(url_test,header=None)\n",
        "\n",
        "\n",
        "\n",
        "df_train=np.asarray(df_train)\n",
        "df_test=np.asarray(df_test)\n",
        "\n",
        "x_train = df_train[:, 0]\n",
        "y_train = df_train[:, 1]\n",
        "\n",
        "x_test = df_test[:, 0]\n",
        "y_test = df_test[:, 1]\n",
        "\n",
        "def debug_me():\n",
        "  print('train dataframe: ',df_train.shape)\n",
        "  print('X train shape: ',x_train.shape)\n",
        "  print('y train shape: ',y_train.shape)\n",
        "\n",
        "  print('test dataframe: ',df_test.shape)\n",
        "  print('X test shape: ',x_test.shape)\n",
        "  print('y test shape: ',y_test.shape)\n",
        "  \n",
        "\n",
        "#debug_me()\n",
        "\n",
        "arr=[]\n",
        "max_val=400\n",
        "cnt=0\n",
        "for item in range (len(x_train)):\n",
        "  val=len(x_train[item])\n",
        "  if(val<=max_val):\n",
        "    cnt=cnt+1\n",
        "    arr.append(val)\n",
        "\n",
        "print('max length selected:',max_val)\n",
        "print('item count:',cnt)\n",
        "print('items removed:',len(x_train)-cnt)\n",
        "my_arr=np.array(arr)\n",
        "my_arr.shape\n",
        "\n",
        "plt.plot(my_arr,color='orange')\n",
        "plt.title('lenght of inputs')\n",
        "plt.xlabel('inputs')\n",
        "plt.ylabel('lengths')\n",
        "plt.show()\n",
        "print(my_arr.mean())"
      ],
      "execution_count": 37,
      "outputs": [
        {
          "output_type": "stream",
          "text": [
            "max length selected: 400\n",
            "item count: 4061\n",
            "items removed: 529\n"
          ],
          "name": "stdout"
        },
        {
          "output_type": "display_data",
          "data": {
            "image/png": "[encoded data removed]",
            "text/plain": [
              "<Figure size 432x288 with 1 Axes>"
            ]
          },
          "metadata": {
            "tags": []
          }
        },
        {
          "output_type": "stream",
          "text": [
            "191.5658704752524\n"
          ],
          "name": "stdout"
        }
      ]
    }
  ]
}
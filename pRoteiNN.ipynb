{
  "nbformat": 4,
  "nbformat_minor": 0,
  "metadata": {
    "colab": {
      "name": "pRoteiNN.ipynb",
      "version": "0.3.2",
      "provenance": [],
      "collapsed_sections": [],
      "include_colab_link": true
    },
    "kernelspec": {
      "name": "python3",
      "display_name": "Python 3"
    }
  },
  "cells": [
    {
      "cell_type": "markdown",
      "metadata": {
        "id": "view-in-github",
        "colab_type": "text"
      },
      "source": [
        "<a href=\"https://colab.research.google.com/github/sak1b0/proteiNN/blob/master/pRoteiNN.ipynb\" target=\"_parent\"><img src=\"https://colab.research.google.com/assets/colab-badge.svg\" alt=\"Open In Colab\"/></a>"
      ]
    },
    {
      "metadata": {
        "id": "pjIc0i0r9W8k",
        "colab_type": "code",
        "outputId": "bcb65388-fbf9-4b4c-adff-1997cc33b026",
        "colab": {
          "base_uri": "https://localhost:8080/",
          "height": 230
        }
      },
      "cell_type": "code",
      "source": [
        "import pandas as pd\n",
        "import numpy as np\n",
        "\n",
        "url_train='https://raw.githubusercontent.com/sak1b0/proteiNN/master/train_formatted.csv'\n",
        "url_test='https://raw.githubusercontent.com/sak1b0/proteiNN/master/test_formatted.csv'\n",
        "\n",
        "df_train=pd.read_csv(url_train,header=None)\n",
        "df_test=pd.read_csv(url_test,header=None)\n",
        "\n",
        "\n",
        "df_train=np.asarray(df_train)\n",
        "df_test=np.asarray(df_test)\n",
        "\n",
        "X_train = np.delete(df_train, df_train.shape[1] - 1, axis=1)\n",
        "y_train = df_train[:, -1]\n",
        "\n",
        "X_test = np.delete(df_test, df_test.shape[1] - 1, axis=1)\n",
        "y_test = df_test[:, -1]\n",
        "\n",
        "def debug_me():\n",
        "  print(df_train.shape)\n",
        "  print(X_train.shape)\n",
        "  print(y_train.shape)\n",
        "\n",
        "  print(df_test.shape)\n",
        "  print(X_test.shape)\n",
        "  print(y_test.shape)\n",
        "\n",
        "debug_me()\n",
        "\n",
        "#print(len(X_train[13][0]))\n",
        "\n",
        "max_length_train=0\n",
        "dumm='shovon'\n",
        "for item in range (len(X_train)):\n",
        "  if(len(X_train[item][0])>len(dumm)):\n",
        "    dumm=X_train[item][0]\n",
        "  max_length_train=max(max_length_train,len(X_train[item][0]))\n",
        "  \n",
        "  \n",
        "print('Maximum length of train: ',max_length_train)\n",
        "print(dumm)\n",
        "\n",
        "max_length_test=0\n",
        "for item in range (len(X_test)):\n",
        "  max_length_test=max(max_length_test,len(X_test[item][0]))\n",
        "  \n",
        "print('Maximum length of test: ',max_length_test)\n",
        "\n",
        "\n",
        "print(X_train[0])\n",
        "#print(X_train[0][0].replace('H','1'))\n",
        "s=X_train[0][0]\n",
        "#no. of unique letters (there goes my label encoding)\n",
        "len(list(set(s)))\n",
        "\n"
      ],
      "execution_count": 2,
      "outputs": [
        {
          "output_type": "stream",
          "text": [
            "(4590, 2)\n",
            "(4590, 1)\n",
            "(4590,)\n",
            "(1199, 2)\n",
            "(1199, 1)\n",
            "(1199,)\n",
            "Maximum length of train:  1303\n",
            "GLVPRGSHMMEILRGSPALSAFRINKLLARFQAANLQVHNIYAEYVHFADLNAPLNDSEQAQLTRLLQYGPALSSHTPAGKLLLVTPRPGTISPWSSKATDIAHNCGLQQVDRLERGVAYYIEASTLTAEQWRQVAAELHDRMMETVFSSLTDAEKLFIHHQPAPVSSVDLLGEGRQALIDANLRLGLALAEDEIDYLQEAFTKLGRNPNDIELYMFAQANSEHCRHKIFNADWIIDGKPQPKSLFKMIKNTFETTPDYVLSAYKDNAAVMEGSAVGRYFADHNTGRYDFHQEPAHILMKVETHNHPTAISPWPGAATGSGGEIRDEGATGRGAKPKAGLVGFSVSNLRIPGFEQPWEEDFGKPERIVTALDIMTEGPLGGAAFNNEFGRPALTGYFRTYEEKVNSHNGEELRGYHKPIMLAGGIGNIRADHVQKGEIVVGAKLIVLGGPAMNIGLGGGAASSMASGQSDADLDFASVQRDNPEMERRCQEVIDRCWQLGDANPILFIHDVGAGGLSNAMPELVSDGGRGGKFELRDILSDEPGMSPLEIWCNESQERYVLAVAADQLPLFDELCKRERAPYAVIGDATEEQHLSLHDNHFDNQPIDLPLDVLLGKTPKMTRDVQTLKAKGDALNRADITIADAVKRVLHLPTVAEKTFLVTIGDRTVTGMVARDQMVGPWQVPVADCAVTTASLDSYYGEAMSIGERAPVALLDFAASARLAVGEALTNIAATQIGDIKRIKLSANWMAAAGHPGEDAGLYDAVKAVGEELCPQLGLTIPVGKDSMSMKTRWQEGNEQREMTSPLSLVISAFARVEDVRHTLTPQLSTEDNALLLIDLGKGHNALGATALAQVYRQLGDKPADVRDVAQLKGFYDAMQALVAARKLLAWHDRSDGGLLVTLAEMAFAGHCGVQVDIAALGDDHLAALFNEELGGVIQVRAEDRDAVEALLAQYGLADCVHYLGQALAGDRFVITANDQTVFSESRTTLRVWWAETTWQMQRLRDNPQCADQEHEAKANDTDPGLNVKLSFDINEDIAAPYIATGARPKVAVLREQGVNSHVEMAAAFHRAGFDAIDVHMSDLLGGRIGLGNFHALVACGGFSYGDVLGAGEGWAKSILFNHRVRDEFETFFHRPQTLALGVCNGCQMMSNLRELIPGSELWPRFVRNHSDRFEARFSLVEVTQSPSLLLQGMVGSQMPIAVSHGEGRVEVRDDAHLAALESKGLVALRYVDNFGKVTETYPANPNGSPNGITAVTTENGRVTIMMPHPERVFRTVANSWHPENWGEDSPWMRIFRNARKQLG\n",
            "Maximum length of test:  1247\n",
            "['RTNQAGLELIGNAEGCRRDPYMCPAGVWTDGIGNTHGVTPGVRKTDQQIAADWEKNILIAERCINQHFRGKDMPDNAFSAMTSAAFNMGCNSLRTYYSKARGMRVETSIHKWAQKGEWVNMCNHLPDFVNSNGVPLRGLKIRREKERQLCLTGLVNEHHHHHH']\n"
          ],
          "name": "stdout"
        },
        {
          "output_type": "execute_result",
          "data": {
            "text/plain": [
              "20"
            ]
          },
          "metadata": {
            "tags": []
          },
          "execution_count": 2
        }
      ]
    }
  ]
}
{
  "nbformat": 4,
  "nbformat_minor": 0,
  "metadata": {
    "colab": {
      "name": "pRoteiNN.ipynb",
      "version": "0.3.2",
      "provenance": [],
      "collapsed_sections": [],
      "include_colab_link": true
    },
    "kernelspec": {
      "name": "python3",
      "display_name": "Python 3"
    }
  },
  "cells": [
    {
      "cell_type": "markdown",
      "metadata": {
        "id": "view-in-github",
        "colab_type": "text"
      },
      "source": [
        "<a href=\"https://colab.research.google.com/github/sak1b0/proteiNN/blob/master/pRoteiNN.ipynb\" target=\"_parent\"><img src=\"https://colab.research.google.com/assets/colab-badge.svg\" alt=\"Open In Colab\"/></a>"
      ]
    },
    {
      "metadata": {
        "id": "pjIc0i0r9W8k",
        "colab_type": "code",
        "colab": {
          "base_uri": "https://localhost:8080/",
          "height": 52
        },
        "outputId": "e44e27ed-e889-4315-80b3-8476dd256d5c"
      },
      "cell_type": "code",
      "source": [
        "from sklearn import metrics\n",
        "from sklearn.model_selection import train_test_split\n",
        "from sklearn.metrics import accuracy_score\n",
        "from sklearn.preprocessing import OneHotEncoder\n",
        "from sklearn.preprocessing import LabelEncoder\n",
        "import pandas as pd\n",
        "import numpy as np\n",
        "\n",
        "url_train='https://raw.githubusercontent.com/sak1b0/proteiNN/master/train_formatted.csv'\n",
        "url_test='https://raw.githubusercontent.com/sak1b0/proteiNN/master/test_formatted.csv'\n",
        "\n",
        "df_train=pd.read_csv(url_train,header=None)\n",
        "df_test=pd.read_csv(url_test,header=None)\n",
        "\n",
        "\n",
        "df_train=np.asarray(df_train)\n",
        "df_test=np.asarray(df_test)\n",
        "\n",
        "X_train = np.delete(df_train, df_train.shape[1] - 1, axis=1)\n",
        "y_train = df_train[:, -1]\n",
        "\n",
        "X_test = np.delete(df_test, df_test.shape[1] - 1, axis=1)\n",
        "y_test = df_test[:, -1]\n",
        "\n",
        "def debug_me():\n",
        "  print(df_train.shape)\n",
        "  print(X_train.shape)\n",
        "  print(y_train.shape)\n",
        "\n",
        "  print(df_test.shape)\n",
        "  print(X_test.shape)\n",
        "  print(y_test.shape)\n",
        "\n",
        "#debug_me()\n",
        "\n",
        "#print(len(X_train[13][0]))\n",
        "\n",
        "max_length_train=0\n",
        "for item in range (len(X_train)):\n",
        "  max_length_train=max(max_length_train,len(X_train[item][0]))\n",
        "  \n",
        "print('Maximum length of train: ',max_length_train)\n",
        "\n",
        "max_length_test=0\n",
        "for item in range (len(X_test)):\n",
        "  max_length_test=max(max_length_test,len(X_train[item][0]))\n",
        "  \n",
        "print('Maximum length of test: ',max_length_test)"
      ],
      "execution_count": 25,
      "outputs": [
        {
          "output_type": "stream",
          "text": [
            "Maximum length of train:  1303\n",
            "Maximum length of test:  1083\n"
          ],
          "name": "stdout"
        }
      ]
    }
  ]
}